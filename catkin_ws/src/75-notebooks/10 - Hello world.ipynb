{
 "cells": [
  {
   "cell_type": "markdown",
   "metadata": {},
   "source": [
    "## Check that everything is installed correctly\n",
    "\n",
    "Let's make sure that we have set up everything correctly by importing `duckietown_utils`."
   ]
  },
  {
   "cell_type": "code",
   "execution_count": null,
   "metadata": {},
   "outputs": [],
   "source": [
    "import cv2\n",
    "import rospy\n",
    "import duckietown_utils\n",
    "import easy_logs\n",
    "print(\"OK, everything is set up correctly.\")"
   ]
  },
  {
   "cell_type": "markdown",
   "metadata": {},
   "source": [
    "## Navigating the notebooks\n",
    "\n",
    "- Go into command mode by pressing <kbd>ESC</kbd>\n",
    "- Navigate with arrow keys\n",
    "- Change type to Markdown: <kbd>M</kbd>\n",
    "- change type to code: <kbd>Y</kbd>\n",
    "- Edit a cell: enter\n",
    "- Evaluate the cell: ctrl-enter\n",
    "- Add cell above: <kbd>A</kbd>\n",
    "- Add cell below: <kbd>B</kbd>\n",
    "- Delete: <kbd>D</kbd><kbd>D</kbd>  (like Vim!)\n"
   ]
  },
  {
   "cell_type": "markdown",
   "metadata": {},
   "source": [
    "Something in markdown: *italic* "
   ]
  }
 ],
 "metadata": {
  "kernelspec": {
   "display_name": "Python 2",
   "language": "python",
   "name": "python2"
  },
  "language_info": {
   "codemirror_mode": {
    "name": "ipython",
    "version": 2
   },
   "file_extension": ".py",
   "mimetype": "text/x-python",
   "name": "python",
   "nbconvert_exporter": "python",
   "pygments_lexer": "ipython2",
   "version": "2.7.12"
  }
 },
 "nbformat": 4,
 "nbformat_minor": 2
}
