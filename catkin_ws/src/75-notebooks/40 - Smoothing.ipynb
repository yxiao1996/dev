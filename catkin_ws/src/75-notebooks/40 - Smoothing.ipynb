{
 "cells": [
  {
   "cell_type": "code",
   "execution_count": null,
   "metadata": {},
   "outputs": [],
   "source": [
    "import cv2\n",
    "import numpy as np\n",
    "from matplotlib import pyplot as plt\n",
    "from reprep.graphics import scale as scale0, posneg;\n",
    "\n",
    "def show(x):\n",
    "    print('Image shape: %s' % str(x.shape))\n",
    "    plt.imshow(x, interpolation='nearest')\n",
    "    plt.show()\n",
    "\n",
    "def scale(x):\n",
    "    return scale0(x, \n",
    "                 min_color=[0, 0, 0],\n",
    "                 max_color=[0, 1, 1], skim=1)\n",
    "    \n"
   ]
  },
  {
   "cell_type": "code",
   "execution_count": null,
   "metadata": {},
   "outputs": [],
   "source": [
    "filename = 'data/funky_rgb.png'\n",
    "im1_bgr = cv2.imread(filename)\n",
    "im1_rgb = cv2.cvtColor(im1_bgr, cv2.COLOR_BGR2RGB)\n",
    "H, W = 512, 512\n",
    "im1_rgb = cv2.resize(im1_rgb, (H, W)) \n"
   ]
  },
  {
   "cell_type": "code",
   "execution_count": null,
   "metadata": {},
   "outputs": [],
   "source": [
    "show(im1_rgb)"
   ]
  },
  {
   "cell_type": "code",
   "execution_count": null,
   "metadata": {},
   "outputs": [],
   "source": [
    "grayscale = np.sum(im1_rgb, axis=2)\n",
    "grayscale = (im1_rgb[:,:,0] + im1_rgb[:,:,1] + im1_rgb[:,:,2])/ 3.0\n",
    "\n",
    "\n",
    "\n"
   ]
  },
  {
   "cell_type": "code",
   "execution_count": null,
   "metadata": {},
   "outputs": [],
   "source": [
    "n = 121\n",
    "blur = cv2.GaussianBlur(grayscale, (n,n), 0)"
   ]
  },
  {
   "cell_type": "code",
   "execution_count": null,
   "metadata": {},
   "outputs": [],
   "source": [
    "show((blur))"
   ]
  },
  {
   "cell_type": "code",
   "execution_count": null,
   "metadata": {},
   "outputs": [],
   "source": [
    "ns = [5 + i * 10 for i in range(12)]\n",
    "print ns"
   ]
  },
  {
   "cell_type": "code",
   "execution_count": null,
   "metadata": {},
   "outputs": [],
   "source": [
    "res = []\n",
    "for n in ns:\n",
    "    r = cv2.GaussianBlur(grayscale,(n,n),0)\n",
    "    res.append(r)"
   ]
  },
  {
   "cell_type": "code",
   "execution_count": null,
   "metadata": {
    "scrolled": true
   },
   "outputs": [],
   "source": [
    "show(np.hstack(res ))"
   ]
  },
  {
   "cell_type": "code",
   "execution_count": null,
   "metadata": {},
   "outputs": [],
   "source": [
    "n = len(res) # n images in scale space\n",
    "\n",
    "dogs = [None] * (n - 1) \n",
    "print dogs"
   ]
  },
  {
   "cell_type": "code",
   "execution_count": null,
   "metadata": {},
   "outputs": [],
   "source": [
    "for i in range(n-1):\n",
    "    image1 = res[i]\n",
    "    image2 = res[i+1]\n",
    "    difference = image1 - image2\n",
    "    difference_abs = np.abs(difference)\n",
    "    dogs[i] = difference_abs"
   ]
  },
  {
   "cell_type": "code",
   "execution_count": null,
   "metadata": {},
   "outputs": [],
   "source": [
    "show(dogs[10])"
   ]
  },
  {
   "cell_type": "code",
   "execution_count": null,
   "metadata": {},
   "outputs": [],
   "source": [
    "# compute difference of gaussians\n",
    "n = len(res)\n",
    "dogs = [None] * (n-1)\n",
    "for i in range(n-1):\n",
    "    dogs[i] = np.abs(res[i+1] - res[i])"
   ]
  },
  {
   "cell_type": "code",
   "execution_count": null,
   "metadata": {},
   "outputs": [],
   "source": []
  },
  {
   "cell_type": "code",
   "execution_count": null,
   "metadata": {},
   "outputs": [],
   "source": []
  }
 ],
 "metadata": {
  "kernelspec": {
   "display_name": "Python 2",
   "language": "python",
   "name": "python2"
  },
  "language_info": {
   "codemirror_mode": {
    "name": "ipython",
    "version": 2
   },
   "file_extension": ".py",
   "mimetype": "text/x-python",
   "name": "python",
   "nbconvert_exporter": "python",
   "pygments_lexer": "ipython2",
   "version": "2.7.12"
  }
 },
 "nbformat": 4,
 "nbformat_minor": 2
}
