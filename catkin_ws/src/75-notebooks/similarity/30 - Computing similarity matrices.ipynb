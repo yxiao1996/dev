{
 "cells": [
  {
   "cell_type": "code",
   "execution_count": null,
   "metadata": {},
   "outputs": [],
   "source": [
    "dirname = 'logs/thumbnails1'"
   ]
  },
  {
   "cell_type": "code",
   "execution_count": null,
   "metadata": {},
   "outputs": [],
   "source": [
    "from duckietown_utils import locate_files\n",
    "locate_files(dirname, 'image-*.jpg')"
   ]
  },
  {
   "cell_type": "code",
   "execution_count": null,
   "metadata": {},
   "outputs": [],
   "source": [
    "from duckietown_utils import image_cv_from_jpg_fn, rgb_from_bgr\n",
    "\n",
    "def load_images_rgb(dirname):\n",
    "    \"\"\" Load all the images from dirname in RGB format \"\"\"\n",
    "    \n",
    "    # look for files\n",
    "    files = locate_files(dirname, 'image-*jpg')\n",
    "    \n",
    "    # sort them in sequence\n",
    "    files = sorted(files)\n",
    "    \n",
    "    # load all of them using image_cv_from_jpg_fn() that loads a JPG image \n",
    "    f = ErniComposition([image_cv_from_jpg_fn, rgb_from_bgr])\n",
    "    \n",
    "    images_rgb = map(f, files)\n",
    "    \n",
    "    return images\n",
    "    \n",
    "class ErniComposition():\n",
    "    def __init__(self, fs):\n",
    "        self.fs = fs\n",
    "\n",
    "    def __call__(self, x):\n",
    "        for f in self.fs:\n",
    "            x = f(x)\n",
    "        return x\n",
    "    # option 0\n",
    "#    images3 = []\n",
    "#     for image in images:\n",
    "#         images3.append(rgb_from_bgr(image))\n",
    "\n",
    "#     #     \n",
    "#     images2 = [ rgb_from_bgr(x) for x in images]\n",
    "\n",
    "#     images2 = map_ac(rgb_from_bgr, images)\n",
    "    \n",
    "#     images_back = map_ac(bgr_from_rgb, images2)\n",
    "    \n",
    "#     def map_ac(f, sequence):\n",
    "#         sequence2 = []\n",
    "#         for x in sequence:\n",
    "#             x2 = f(x)\n",
    "#             sequence2.append(x2)\n",
    "#         return sequence2\n",
    "    \n",
    "    \n"
   ]
  },
  {
   "cell_type": "code",
   "execution_count": null,
   "metadata": {},
   "outputs": [],
   "source": [
    "images = load_images_rgb(dirname)"
   ]
  },
  {
   "cell_type": "code",
   "execution_count": null,
   "metadata": {},
   "outputs": [],
   "source": [
    "print('Loaded %d images; resolution is %s' % (len(images), images[0].shape))"
   ]
  },
  {
   "cell_type": "code",
   "execution_count": null,
   "metadata": {},
   "outputs": [],
   "source": [
    "I = images[200]\n",
    "\n",
    "from matplotlib import pyplot\n",
    "pyplot.imshow(I)\n",
    "pyplot.show()\n",
    "\n"
   ]
  },
  {
   "cell_type": "code",
   "execution_count": null,
   "metadata": {},
   "outputs": [],
   "source": [
    "from matplotlib import pyplot\n",
    "import numpy as np\n",
    "\n",
    "i = 0\n",
    "\n",
    "A = images[i ] # uint8\n",
    "B = images[i + 1]\n",
    "\n",
    "Af = A.astype('float')\n",
    "Bf = B.astype('float')\n",
    "\n",
    "diff = np.abs(Af - Bf)\n",
    "diff_uint = diff.astype('uint8')\n",
    "\n",
    "pyplot.imshow(diff_uint);\n",
    "pyplot.show()"
   ]
  },
  {
   "cell_type": "code",
   "execution_count": null,
   "metadata": {},
   "outputs": [],
   "source": [
    "def get_similarity_matrix(images, phi, distance):\n",
    "    n = len(images)    \n",
    "    descriptors = map(phi, images)\n",
    "    \n",
    "    A = np.zeros((n,n))\n",
    "    interval = n / 10\n",
    "    for i in range(n):\n",
    "        if i % interval == 0:\n",
    "            print('%d/%d' % (i, n))\n",
    "        for j in range(n):\n",
    "            if i <= j:\n",
    "                d = distance(descriptors[i], descriptors[j])\n",
    "                A[i,j] = d\n",
    "                A[j,i] = d\n",
    "    return A"
   ]
  },
  {
   "cell_type": "code",
   "execution_count": null,
   "metadata": {},
   "outputs": [],
   "source": [
    "\n",
    "from duckietown_utils import d8_image_zoom_linear\n",
    "\n",
    "def phi_resize(x):\n",
    "    x = d8_image_zoom_linear(x, 1/16.0)\n",
    "    return x.astype('float32')\n",
    "\n",
    "def distance_L1(a,b):\n",
    "    return np.mean(np.fabs(a-b))\n"
   ]
  },
  {
   "cell_type": "code",
   "execution_count": null,
   "metadata": {},
   "outputs": [],
   "source": [
    "A_L1 = get_similarity_matrix(images, phi_resize, distance_L1)"
   ]
  },
  {
   "cell_type": "code",
   "execution_count": null,
   "metadata": {},
   "outputs": [],
   "source": [
    "pyplot.figure()\n",
    "pyplot.imshow(A)\n",
    "pyplot.show()"
   ]
  },
  {
   "cell_type": "code",
   "execution_count": null,
   "metadata": {},
   "outputs": [],
   "source": [
    "pyplot.figure()\n",
    "pyplot.plot(A[100,:])\n",
    "pyplot.show()"
   ]
  },
  {
   "cell_type": "code",
   "execution_count": null,
   "metadata": {},
   "outputs": [],
   "source": []
  }
 ],
 "metadata": {
  "kernelspec": {
   "display_name": "Python 2",
   "language": "python",
   "name": "python2"
  },
  "language_info": {
   "codemirror_mode": {
    "name": "ipython",
    "version": 2
   },
   "file_extension": ".py",
   "mimetype": "text/x-python",
   "name": "python",
   "nbconvert_exporter": "python",
   "pygments_lexer": "ipython2",
   "version": "2.7.12"
  }
 },
 "nbformat": 4,
 "nbformat_minor": 2
}
